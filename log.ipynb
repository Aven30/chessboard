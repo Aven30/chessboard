{
 "cells": [
  {
   "cell_type": "code",
   "execution_count": 15,
   "metadata": {
    "collapsed": true
   },
   "outputs": [],
   "source": [
    "import os\n",
    "'''\n",
    "Name: FileHander:\n",
    "Description: Controls reading/writing to files and\n",
    "determines if a file has updated\n",
    "@param player : a character representing the player\n",
    "'''\n",
    "class FileHandler:\n",
    "    def __init__(self,player):\n",
    "        if player == \"X\":\n",
    "            self.__player = player\n",
    "            self.__opponent =\"Y\"\n",
    "        else:\n",
    "            self.__player = player\n",
    "            self.__opponent = \"X\"\n",
    "        file = \"log_\"+self.__opponent+\".txt\"\n",
    "        self.__opponentStamp = os.stat(file).st_mtime\n",
    "'''\n",
    "Method: write()\n",
    "description: This method records a move given by the player\n",
    "\n",
    "parameter:\n",
    "turn - an integer representing game's current turn\n",
    "piece - A string representing a chess piece\n",
    "move - a 2 character string that represents a chess square \n",
    "ex) a2  \n",
    "\n",
    "\n",
    "\n",
    "Known Issues: \n",
    "1. Method does not check for file existance\n",
    "2. Method does not check if string is in proper format\n",
    "'''        \n",
    "    def write(self,turn,piece,move):\n",
    "        file = \"log_\"+self.__player+\".txt\"\n",
    "        log = str(turn) + \" \" + self.__player+\":\"+piece+\":\"+move+\"\\n\"\n",
    "        previous = self.getPreviousMove()\n",
    "        \n",
    "        if previous:#in middle of game \n",
    "            f = open(file,\"a\")\n",
    "            f.write(previous)\n",
    "            f.write(log)\n",
    "            f.close()\n",
    "        else: #if opponent file is empty, start of new game\n",
    "            f = open(file,\"w\")\n",
    "            f.write(log)\n",
    "            f.close()\n",
    "'''\n",
    "Method: waitOpponent()\n",
    "description: boolean function to determine if the opposing player has made a move\n",
    "Return Values:\n",
    "True : If file has been modified\n",
    "False: File has not been modified from the last recorded time\n",
    "\n",
    "'''                    \n",
    "    def waitOpponent(self):\n",
    "        file = \"log_\"+self.__opponent+\".txt\"\n",
    "        modif = os.stat(file).st_mtime\n",
    "        if modif != self.__opponentStamp:\n",
    "            self.__opponentStamp = modif\n",
    "            return False\n",
    "        else:\n",
    "            return True\n",
    "'''\n",
    "Method: getPreviousMove()\n",
    "description: returns a string containing the last line of the opponent file\n",
    "\n",
    "Return Values:\n",
    "None: Empty String if the file is initially empty\n",
    "String in the format of [n X:P:MM]\n",
    "\n",
    "Known Issues: Does not check for file existance\n",
    "'''\n",
    "    def getPreviousMove(self):\n",
    "        file = \"log_\"+self.__opponent+\".txt\"\n",
    "        f = open(file,\"r\")\n",
    "        last = None\n",
    "        for line in f:\n",
    "            last = line\n",
    "        f.close()\n",
    "        return last\n",
    "'''\n",
    "Method: loadAll()\n",
    "description: this method returns a list with indices containing a file from\n",
    "the file\n",
    "\n",
    "return: list of all items in the file\n",
    "\n",
    "known Issues: does not check for file existance\n",
    "'''\n",
    "    def loadAll(self):\n",
    "        file = \"log_\"+self.__player+\".txt\"\n",
    "        f = open (file,\"r\")\n",
    "        lines = f.readlines()\n",
    "        f.close()\n",
    "        return lines\n",
    "        "
   ]
  },
  {
   "cell_type": "code",
   "execution_count": 16,
   "metadata": {
    "collapsed": false
   },
   "outputs": [
    {
     "name": "stdout",
     "output_type": "stream",
     "text": [
      "X Finished\n"
     ]
    }
   ],
   "source": [
    "player = \"X\"\n",
    "player1 = FileHandler(player)\n",
    "turn = 0\n",
    "piece = \"K\"\n",
    "move = \"e1\"\n",
    "if player == \"X\":\n",
    "    player1.write(turn,piece,move)\n",
    "else:\n",
    "    turn = 1\n",
    "    pass\n",
    "while(turn < 10):\n",
    "    while(True):\n",
    "        wait = player1.waitOpponent()\n",
    "        if wait:\n",
    "            pass\n",
    "        else:\n",
    "            break\n",
    "    turn = turn + 2\n",
    "print(\"X Finished\")    "
   ]
  },
  {
   "cell_type": "code",
   "execution_count": null,
   "metadata": {
    "collapsed": false
   },
   "outputs": [],
   "source": [
    "\n"
   ]
  },
  {
   "cell_type": "code",
   "execution_count": null,
   "metadata": {
    "collapsed": true
   },
   "outputs": [],
   "source": []
  }
 ],
 "metadata": {
  "kernelspec": {
   "display_name": "Python 3",
   "language": "python",
   "name": "python3"
  },
  "language_info": {
   "codemirror_mode": {
    "name": "ipython",
    "version": 3
   },
   "file_extension": ".py",
   "mimetype": "text/x-python",
   "name": "python",
   "nbconvert_exporter": "python",
   "pygments_lexer": "ipython3",
   "version": "3.5.1"
  }
 },
 "nbformat": 4,
 "nbformat_minor": 1
}
